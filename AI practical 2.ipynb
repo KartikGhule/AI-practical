{
 "cells": [
  {
   "cell_type": "markdown",
   "metadata": {},
   "source": [
    "* Name:Anisha Dudhane\n",
    "* Roll No: 13143\n",
    "* Div & Batch: A - A3"
   ]
  },
  {
   "cell_type": "code",
   "execution_count": 5,
   "metadata": {},
   "outputs": [
    {
     "name": "stdin",
     "output_type": "stream",
     "text": [
      "Enter number of rows:  5\n",
      "Enter number of columns:  5\n",
      "Do you want to manually enter the maze? (y/n):  y\n"
     ]
    },
    {
     "name": "stdout",
     "output_type": "stream",
     "text": [
      "Enter the 5x5 maze row by row (0 = open, 1 = obstacle):\n"
     ]
    },
    {
     "name": "stdin",
     "output_type": "stream",
     "text": [
      "Row 1:  0 1 0 0 0\n",
      "Row 2:  0 1 0 1 0\n",
      "Row 3:  0 0 0 1 0\n",
      "Row 4:  1 1 0 1 0\n",
      "Row 5:   0 0 0 0 0\n",
      "Enter start position (row col):  0 0 \n",
      "Enter goal position (row col):  4 4\n"
     ]
    },
    {
     "data": {
      "image/png": "[encoded data removed]",
      "text/plain": [
       "<Figure size 640x480 with 1 Axes>"
      ]
     },
     "metadata": {},
     "output_type": "display_data"
    }
   ],
   "source": [
    "import heapq\n",
    "import matplotlib.pyplot as plt\n",
    "import numpy as np\n",
    "import random\n",
    "\n",
    "class Node:\n",
    "    def __init__(self, position, parent=None, g=0, h=0):\n",
    "        self.position = position\n",
    "        self.parent = parent\n",
    "        self.g = g\n",
    "        self.h = h\n",
    "        self.f = g + h\n",
    "\n",
    "    def __lt__(self, other):\n",
    "        return self.f < other.f\n",
    "\n",
    "def heuristic(a, b):\n",
    "    \"\"\"Calculate Manhattan distance\"\"\"\n",
    "    return abs(a[0] - b[0]) + abs(a[1] - b[1])\n",
    "\n",
    "def astar(grid, start, goal):\n",
    "    open_list = []\n",
    "    closed_set = set()\n",
    "\n",
    "    start_node = Node(start, None, 0, heuristic(start, goal))\n",
    "    heapq.heappush(open_list, start_node)\n",
    "\n",
    "    directions = [(0, 1), (1, 0), (0, -1), (-1, 0)]\n",
    "\n",
    "    while open_list:\n",
    "        current_node = heapq.heappop(open_list)\n",
    "\n",
    "        if current_node.position == goal:\n",
    "            path = []\n",
    "            while current_node:\n",
    "                path.append(current_node.position)\n",
    "                current_node = current_node.parent\n",
    "            return path[::-1]\n",
    "\n",
    "        closed_set.add(current_node.position)\n",
    "\n",
    "        for dx, dy in directions:\n",
    "            neighbor_pos = (current_node.position[0] + dx, current_node.position[1] + dy)\n",
    "\n",
    "            if (neighbor_pos[0] < 0 or neighbor_pos[0] >= len(grid) or \n",
    "                neighbor_pos[1] < 0 or neighbor_pos[1] >= len(grid[0]) or \n",
    "                grid[neighbor_pos[0]][neighbor_pos[1]] == 1 or \n",
    "                neighbor_pos in closed_set):\n",
    "                continue\n",
    "\n",
    "            g_cost = current_node.g + 1\n",
    "            h_cost = heuristic(neighbor_pos, goal)\n",
    "            new_node = Node(neighbor_pos, current_node, g_cost, h_cost)\n",
    "\n",
    "            heapq.heappush(open_list, new_node)\n",
    "\n",
    "    return None\n",
    "\n",
    "def visualize_path(maze, path, start, goal):\n",
    "    maze_array = np.array(maze)\n",
    "\n",
    "    fig, ax = plt.subplots()\n",
    "    ax.set_xticks(range(len(maze[0]) + 1))\n",
    "    ax.set_yticks(range(len(maze) + 1))\n",
    "    ax.grid(True)\n",
    "\n",
    "    for row in range(len(maze)):\n",
    "        for col in range(len(maze[0])):\n",
    "            if maze[row][col] == 1:\n",
    "                ax.add_patch(plt.Rectangle((col, len(maze) - row - 1), 1, 1, color='black'))\n",
    "\n",
    "    if path:\n",
    "        for row, col in path:\n",
    "            ax.add_patch(plt.Rectangle((col, len(maze) - row - 1), 1, 1, color='green'))\n",
    "\n",
    "    ax.add_patch(plt.Rectangle((start[1], len(maze) - start[0] - 1), 1, 1, color='red'))\n",
    "    ax.add_patch(plt.Rectangle((goal[1], len(maze) - goal[0] - 1), 1, 1, color='blue'))\n",
    "\n",
    "    plt.title(\"A* Pathfinding Visualization\")\n",
    "    plt.show()\n",
    "\n",
    "def get_user_input():\n",
    "    rows = int(input(\"Enter number of rows: \"))\n",
    "    cols = int(input(\"Enter number of columns: \"))\n",
    "\n",
    "    choice = input(\"Do you want to manually enter the maze? (y/n): \").strip().lower()\n",
    "\n",
    "    if choice == 'y':\n",
    "        print(f\"Enter the {rows}x{cols} maze row by row (0 = open, 1 = obstacle):\")\n",
    "        maze = []\n",
    "        for i in range(rows):\n",
    "            row = list(map(int, input(f\"Row {i+1}: \").split()))\n",
    "            while len(row) != cols:\n",
    "                print(\"Invalid row length, please re-enter.\")\n",
    "                row = list(map(int, input(f\"Row {i+1}: \").split()))\n",
    "            maze.append(row)\n",
    "    else:\n",
    "        density = float(input(\"Enter obstacle density (0 to 1): \"))\n",
    "        maze = [[1 if random.random() < density else 0 for _ in range(cols)] for _ in range(rows)]\n",
    "        maze[0][0] = 0  # Ensure start position is open\n",
    "        maze[rows-1][cols-1] = 0  # Ensure goal position is open\n",
    "\n",
    "    start = tuple(map(int, input(\"Enter start position (row col): \").split()))\n",
    "    goal = tuple(map(int, input(\"Enter goal position (row col): \").split()))\n",
    "\n",
    "    return maze, start, goal\n",
    "\n",
    "maze, start, goal = get_user_input()\n",
    "path = astar(maze, start, goal)\n",
    "visualize_path(maze, path, start, goal)\n"
   ]
  },
  {
   "cell_type": "code",
   "execution_count": null,
   "metadata": {},
   "outputs": [],
   "source": [
    "Enter number of rows: 5\n",
    "Enter number of columns: 5\n",
    "Do you want to manually enter the maze? (y/n): y\n",
    "Enter the 5x5 maze row by row (0 = open, 1 = obstacle):\n",
    "Row 1: 0 1 0 0 0\n",
    "Row 2: 0 1 0 1 0\n",
    "Row 3: 0 0 0 1 0\n",
    "Row 4: 1 1 0 1 0\n",
    "Row 5: 0 0 0 0 0\n",
    "Enter start position (row col): 0 0\n",
    "Enter goal position (row col): 4 4\n"
   ]
  }
 ],
 "metadata": {
  "kernelspec": {
   "display_name": "Python 3 (ipykernel)",
   "language": "python",
   "name": "python3"
  },
  "language_info": {
   "codemirror_mode": {
    "name": "ipython",
    "version": 3
   },
   "file_extension": ".py",
   "mimetype": "text/x-python",
   "name": "python",
   "nbconvert_exporter": "python",
   "pygments_lexer": "ipython3",
   "version": "3.12.7"
  }
 },
 "nbformat": 4,
 "nbformat_minor": 4
}

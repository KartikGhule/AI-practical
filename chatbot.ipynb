{
 "cells": [
  {
   "cell_type": "code",
   "execution_count": null,
   "id": "391df415-7474-4f8f-9315-a72607c7634c",
   "metadata": {},
   "outputs": [],
   "source": []
  }
 ],
 "metadata": {
  "kernelspec": {
   "display_name": "",
   "name": ""
  },
  "language_info": {
   "name": ""
  }
 },
 "nbformat": 4,
 "nbformat_minor": 5
}
